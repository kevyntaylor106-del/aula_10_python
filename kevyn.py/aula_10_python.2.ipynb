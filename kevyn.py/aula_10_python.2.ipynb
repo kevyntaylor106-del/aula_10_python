{
 "cells": [
  {
   "cell_type": "code",
   "execution_count": null,
   "id": "81c7ad16",
   "metadata": {},
   "outputs": [],
   "source": [
    "#verificação de semetria de uma matriz\n",
    "import random\n",
    "\n",
    "simetria = True\n",
    "n = int(input(\"qual é o tamanho da matriz :\"))\n",
    "\n",
    "for n in range(n):\n",
    "    for m in range(n):\n",
    "        if n == m:\n",
    "            matriz = random.randint(10, 100)\n",
    "            print(matriz, end= '  ')\n",
    "        else:\n",
    "            matriz = random.randint(10, 100)\n",
    "            print(matriz, end= ' ')\n",
    "        print()\n",
    "        if n != m  and matriz != matriz:\n",
    "            simetria = False"
   ]
  }
 ],
 "metadata": {
  "language_info": {
   "name": "python"
  }
 },
 "nbformat": 4,
 "nbformat_minor": 5
}
