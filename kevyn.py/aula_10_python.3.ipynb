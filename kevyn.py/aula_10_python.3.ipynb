{
 "cells": [
  {
   "cell_type": "code",
   "execution_count": null,
   "id": "0b342fbc",
   "metadata": {},
   "outputs": [],
   "source": [
    "#normalização de matrizes\n",
    "\n",
    "import random\n",
    "\n",
    "matriz= []\n",
    "\n",
    "def normaliza(matriz):\n",
    "    for i in range(matriz[i]) :\n",
    "        \n",
    "        for j in range(matriz[j]):\n",
    "            if matriz[i][j] != 0:\n",
    "                matriz[i][j] = 1 / matriz[i][j]\n",
    "            else:\n",
    "                matriz[i][j] = 0\n",
    "        \n",
    "        return matriz\n",
    "                      \n",
    "\n",
    "    for i in range(3) :\n",
    "        linha = []\n",
    "        for j in range(3):\n",
    "            linha.append(random.randint())\n",
    "            matriz.append(linha)\n",
    "            print(matriz)\n",
    "            print(normaliza(matriz= matriz))\n",
    "            \n",
    "\n",
    "            "
   ]
  }
 ],
 "metadata": {
  "language_info": {
   "name": "python"
  }
 },
 "nbformat": 4,
 "nbformat_minor": 5
}
