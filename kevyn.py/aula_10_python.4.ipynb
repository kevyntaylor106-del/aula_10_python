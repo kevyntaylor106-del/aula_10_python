{
 "cells": [
  {
   "cell_type": "code",
   "execution_count": null,
   "id": "2e904ec9",
   "metadata": {},
   "outputs": [],
   "source": [
    "soma = []\n",
    "import numpy as np \n",
    "matriz = np.random.randint(0, 10, size=(4, 4))\n",
    "for linha in matriz :\n",
    "    print(linha)\n",
    "print()\n",
    "\n",
    "soma = sum(matriz[i][3 - i] for i in range(4))\n",
    "\n",
    "print(f\"Soma da diagonal secundária: {soma}\")\n",
    "soma = 0\n",
    "\n",
    "for i in range(4):\n",
    "    soma += matriz[i][3 - i]\n",
    "\n",
    "print(f\"Soma da diagonal secundária: {soma}\")\n",
    "\n"
   ]
  }
 ],
 "metadata": {
  "language_info": {
   "name": "python"
  }
 },
 "nbformat": 4,
 "nbformat_minor": 5
}
